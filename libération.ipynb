{
 "cells": [
  {
   "cell_type": "code",
   "execution_count": 1,
   "id": "0d3b8188-01f9-40a3-9773-199236a63b79",
   "metadata": {},
   "outputs": [],
   "source": [
    "import pandas as pd"
   ]
  },
  {
   "cell_type": "code",
   "execution_count": 2,
   "id": "e712ecb7-1298-4c2d-ac2f-7391b7605fea",
   "metadata": {},
   "outputs": [],
   "source": [
    "from utils import *"
   ]
  },
  {
   "cell_type": "code",
   "execution_count": 3,
   "id": "e03804cb-4d52-4d63-a701-dfc0daaa689a",
   "metadata": {},
   "outputs": [],
   "source": [
    "comptes = (\n",
    "    pd\n",
    "    .read_csv('data/ratios_inpi_bce.csv', sep=\";\",dtype={'siren': str})\n",
    "    .assign(\n",
    "        siren = lambda df: df.siren.str.pad(9, 'left', '0')\n",
    "    )\n",
    "    .query('type_bilan == \"C\"')\n",
    "    .assign(\n",
    "        date_cloture_exercice = lambda df: pd.to_datetime(df.date_cloture_exercice),\n",
    "        cloture_exercice_annee = lambda df: pd.to_datetime(df.date_cloture_exercice).dt.to_period('y').astype(str)\n",
    "    )\n",
    ")"
   ]
  },
  {
   "cell_type": "code",
   "execution_count": 4,
   "id": "1c4865d0-18b1-469e-bd6b-d609ee1e0470",
   "metadata": {},
   "outputs": [
    {
     "data": {
      "text/html": [
       "<style type=\"text/css\">\n",
       "</style>\n",
       "<table id=\"T_16a60\">\n",
       "  <thead>\n",
       "    <tr>\n",
       "      <th class=\"index_name level0\" >cloture_exercice_annee</th>\n",
       "      <th id=\"T_16a60_level0_col0\" class=\"col_heading level0 col0\" >2016</th>\n",
       "      <th id=\"T_16a60_level0_col1\" class=\"col_heading level0 col1\" >2017</th>\n",
       "      <th id=\"T_16a60_level0_col2\" class=\"col_heading level0 col2\" >2018</th>\n",
       "      <th id=\"T_16a60_level0_col3\" class=\"col_heading level0 col3\" >2019</th>\n",
       "      <th id=\"T_16a60_level0_col4\" class=\"col_heading level0 col4\" >2020</th>\n",
       "      <th id=\"T_16a60_level0_col5\" class=\"col_heading level0 col5\" >2021</th>\n",
       "    </tr>\n",
       "    <tr>\n",
       "      <th class=\"index_name level0\" >siren</th>\n",
       "      <th class=\"blank col0\" >&nbsp;</th>\n",
       "      <th class=\"blank col1\" >&nbsp;</th>\n",
       "      <th class=\"blank col2\" >&nbsp;</th>\n",
       "      <th class=\"blank col3\" >&nbsp;</th>\n",
       "      <th class=\"blank col4\" >&nbsp;</th>\n",
       "      <th class=\"blank col5\" >&nbsp;</th>\n",
       "    </tr>\n",
       "  </thead>\n",
       "  <tbody>\n",
       "    <tr>\n",
       "      <th id=\"T_16a60_level0_row0\" class=\"row_heading level0 row0\" >382028199</th>\n",
       "      <td id=\"T_16a60_row0_col0\" class=\"data row0 col0\" >38 640 864</td>\n",
       "      <td id=\"T_16a60_row0_col1\" class=\"data row0 col1\" >36 024 163</td>\n",
       "      <td id=\"T_16a60_row0_col2\" class=\"data row0 col2\" >34 609 921</td>\n",
       "      <td id=\"T_16a60_row0_col3\" class=\"data row0 col3\" >31 761 447</td>\n",
       "      <td id=\"T_16a60_row0_col4\" class=\"data row0 col4\" >24 886 487</td>\n",
       "      <td id=\"T_16a60_row0_col5\" class=\"data row0 col5\" >27 568 013</td>\n",
       "    </tr>\n",
       "  </tbody>\n",
       "</table>\n"
      ],
      "text/plain": [
       "<pandas.io.formats.style.Styler at 0x7fa698178430>"
      ]
     },
     "execution_count": 4,
     "metadata": {},
     "output_type": "execute_result"
    }
   ],
   "source": [
    "ca = (\n",
    "    comptes\n",
    "    .query('siren == \"382028199\"')\n",
    "    .pivot_table(\n",
    "        index = 'siren',\n",
    "        columns = 'cloture_exercice_annee',\n",
    "        values = 'chiffre_d_affaires',\n",
    "        aggfunc= 'last'\n",
    "    )\n",
    ")\n",
    "\n",
    "ca.pipe(format_table)#.pipe(format_index_siren)"
   ]
  },
  {
   "cell_type": "code",
   "execution_count": 5,
   "id": "7f8a27ed-4b30-43df-a493-c63e59df77c9",
   "metadata": {},
   "outputs": [
    {
     "data": {
      "text/html": [
       "<div>\n",
       "<style scoped>\n",
       "    .dataframe tbody tr th:only-of-type {\n",
       "        vertical-align: middle;\n",
       "    }\n",
       "\n",
       "    .dataframe tbody tr th {\n",
       "        vertical-align: top;\n",
       "    }\n",
       "\n",
       "    .dataframe thead th {\n",
       "        text-align: right;\n",
       "    }\n",
       "</style>\n",
       "<table border=\"1\" class=\"dataframe\">\n",
       "  <thead>\n",
       "    <tr style=\"text-align: right;\">\n",
       "      <th></th>\n",
       "      <th>2015</th>\n",
       "      <th>2016</th>\n",
       "      <th>2017</th>\n",
       "      <th>2018</th>\n",
       "      <th>2019</th>\n",
       "      <th>2020</th>\n",
       "      <th>2021</th>\n",
       "      <th>total</th>\n",
       "    </tr>\n",
       "    <tr>\n",
       "      <th>recodage</th>\n",
       "      <th></th>\n",
       "      <th></th>\n",
       "      <th></th>\n",
       "      <th></th>\n",
       "      <th></th>\n",
       "      <th></th>\n",
       "      <th></th>\n",
       "      <th></th>\n",
       "    </tr>\n",
       "  </thead>\n",
       "  <tbody>\n",
       "    <tr>\n",
       "      <th>LIBERATION</th>\n",
       "      <td>5099910.0</td>\n",
       "      <td>4887544.0</td>\n",
       "      <td>4738019.0</td>\n",
       "      <td>4450177.0</td>\n",
       "      <td>4181332.0</td>\n",
       "      <td>4102802.0</td>\n",
       "      <td>4998785.0</td>\n",
       "      <td>32458569.0</td>\n",
       "    </tr>\n",
       "  </tbody>\n",
       "</table>\n",
       "</div>"
      ],
      "text/plain": [
       "                 2015       2016       2017       2018       2019       2020  \\\n",
       "recodage                                                                       \n",
       "LIBERATION  5099910.0  4887544.0  4738019.0  4450177.0  4181332.0  4102802.0   \n",
       "\n",
       "                 2021       total  \n",
       "recodage                           \n",
       "LIBERATION  4998785.0  32458569.0  "
      ]
     },
     "execution_count": 5,
     "metadata": {},
     "output_type": "execute_result"
    }
   ],
   "source": [
    "aides = (\n",
    "    pd\n",
    "    .read_csv('datasets/aides-total_sup_100000-clean.csv')\n",
    "    .set_index('recodage')\n",
    "    .loc[['LIBERATION']]\n",
    ")\n",
    "\n",
    "aides"
   ]
  },
  {
   "cell_type": "code",
   "execution_count": 6,
   "id": "e3a551b5-4fcf-4401-b3d8-824caf179c95",
   "metadata": {},
   "outputs": [
    {
     "data": {
      "text/html": [
       "<style type=\"text/css\">\n",
       "</style>\n",
       "<table id=\"T_48eff\">\n",
       "  <thead>\n",
       "    <tr>\n",
       "      <th class=\"blank level0\" >&nbsp;</th>\n",
       "      <th id=\"T_48eff_level0_col0\" class=\"col_heading level0 col0\" >2015</th>\n",
       "      <th id=\"T_48eff_level0_col1\" class=\"col_heading level0 col1\" >2016</th>\n",
       "      <th id=\"T_48eff_level0_col2\" class=\"col_heading level0 col2\" >2017</th>\n",
       "      <th id=\"T_48eff_level0_col3\" class=\"col_heading level0 col3\" >2018</th>\n",
       "      <th id=\"T_48eff_level0_col4\" class=\"col_heading level0 col4\" >2019</th>\n",
       "      <th id=\"T_48eff_level0_col5\" class=\"col_heading level0 col5\" >2020</th>\n",
       "      <th id=\"T_48eff_level0_col6\" class=\"col_heading level0 col6\" >2021</th>\n",
       "      <th id=\"T_48eff_level0_col7\" class=\"col_heading level0 col7\" >total</th>\n",
       "    </tr>\n",
       "    <tr>\n",
       "      <th class=\"index_name level0\" >recodage</th>\n",
       "      <th class=\"blank col0\" >&nbsp;</th>\n",
       "      <th class=\"blank col1\" >&nbsp;</th>\n",
       "      <th class=\"blank col2\" >&nbsp;</th>\n",
       "      <th class=\"blank col3\" >&nbsp;</th>\n",
       "      <th class=\"blank col4\" >&nbsp;</th>\n",
       "      <th class=\"blank col5\" >&nbsp;</th>\n",
       "      <th class=\"blank col6\" >&nbsp;</th>\n",
       "      <th class=\"blank col7\" >&nbsp;</th>\n",
       "    </tr>\n",
       "  </thead>\n",
       "  <tbody>\n",
       "    <tr>\n",
       "      <th id=\"T_48eff_level0_row0\" class=\"row_heading level0 row0\" >LIBERATION</th>\n",
       "      <td id=\"T_48eff_row0_col0\" class=\"data row0 col0\" >nan%</td>\n",
       "      <td id=\"T_48eff_row0_col1\" class=\"data row0 col1\" >12.6%</td>\n",
       "      <td id=\"T_48eff_row0_col2\" class=\"data row0 col2\" >13.2%</td>\n",
       "      <td id=\"T_48eff_row0_col3\" class=\"data row0 col3\" >12.9%</td>\n",
       "      <td id=\"T_48eff_row0_col4\" class=\"data row0 col4\" >13.2%</td>\n",
       "      <td id=\"T_48eff_row0_col5\" class=\"data row0 col5\" >16.5%</td>\n",
       "      <td id=\"T_48eff_row0_col6\" class=\"data row0 col6\" >18.1%</td>\n",
       "      <td id=\"T_48eff_row0_col7\" class=\"data row0 col7\" >nan%</td>\n",
       "    </tr>\n",
       "  </tbody>\n",
       "</table>\n"
      ],
      "text/plain": [
       "<pandas.io.formats.style.Styler at 0x7fa5eddb3520>"
      ]
     },
     "execution_count": 6,
     "metadata": {},
     "output_type": "execute_result"
    }
   ],
   "source": [
    "(\n",
    "    aides\n",
    "    .div(ca.iloc[0])\n",
    "    .style\n",
    "    .pipe(format_percent)\n",
    ")"
   ]
  },
  {
   "cell_type": "code",
   "execution_count": null,
   "id": "53ddea75-9ab0-43d0-a14f-d47b160e24b1",
   "metadata": {},
   "outputs": [],
   "source": []
  }
 ],
 "metadata": {
  "kernelspec": {
   "display_name": "Python 3 (ipykernel)",
   "language": "python",
   "name": "python3"
  },
  "language_info": {
   "codemirror_mode": {
    "name": "ipython",
    "version": 3
   },
   "file_extension": ".py",
   "mimetype": "text/x-python",
   "name": "python",
   "nbconvert_exporter": "python",
   "pygments_lexer": "ipython3",
   "version": "3.10.6"
  }
 },
 "nbformat": 4,
 "nbformat_minor": 5
}
